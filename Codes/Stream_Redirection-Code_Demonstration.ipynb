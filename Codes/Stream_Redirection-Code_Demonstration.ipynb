{
 "cells": [
  {
   "cell_type": "markdown",
   "id": "a31217c0-e27d-426d-b7e6-0f14ccfb6e94",
   "metadata": {},
   "source": [
    "# STREAMS & I/O REDIRECTIONS"
   ]
  },
  {
   "cell_type": "markdown",
   "id": "a620e811-2776-4f7f-a58a-2016ecef8cfa",
   "metadata": {},
   "source": [
    "# Streams and Pipes"
   ]
  },
  {
   "cell_type": "code",
   "execution_count": 1,
   "id": "4f2000f5-5a20-4ece-9ace-f83a60e89178",
   "metadata": {},
   "outputs": [
    {
     "name": "stdout",
     "output_type": "stream",
     "text": [
      "       8\r\n"
     ]
    }
   ],
   "source": [
    "! cat ~/data/SampleSuperstoreSales.csv | grep 'Annie Cyprus' | wc -l"
   ]
  },
  {
   "cell_type": "markdown",
   "id": "d4d4244b-6072-4dcb-b667-499fdbdfd00d",
   "metadata": {},
   "source": [
    "# Input/Output Redirections "
   ]
  },
  {
   "cell_type": "code",
   "execution_count": 2,
   "id": "2b8b5d55-c411-4694-9c20-fb9f9b10cb51",
   "metadata": {},
   "outputs": [],
   "source": [
    "! head -1000 ~/data/SampleSuperstoreSales.csv > ~/data/store_1000.csv"
   ]
  },
  {
   "cell_type": "code",
   "execution_count": 3,
   "id": "3fd10756-c4d1-4d65-b868-9d27d85ae0b7",
   "metadata": {},
   "outputs": [
    {
     "name": "stdout",
     "output_type": "stream",
     "text": [
      "6438.0,45763.0,2010-07-07,High,25.0,67.45,0.05,Regular Air,24.28,2.61,0.5,Lisa DeCherney,British Columbia,West,Corporate,Office Supplies,Labels,Avery 494,Small Box,0.39,2010-07-08\r\n",
      "6761.0,48165.0,2010-11-05,High,28.0,199.94,0.01,Regular Air,-147.27,6.48,9.54,Dennis Bolton,British Columbia,West,Small Business,Office Supplies,Paper,Xerox 1905,Small Box,0.37,2010-11-07\r\n",
      "6769.0,48197.0,2012-05-05,Not Specified,32.0,1282.49,0.07,Regular Air,154.74,40.97,14.45,Anthony O'Donnell,British Columbia,West,Consumer,Furniture,Office Furnishings,Dana Halogen Swing-Arm Architect Lamp,Large Box,0.57,2012-05-07\r\n",
      "6808.0,48484.0,2010-06-23,Medium,22.0,346.42,0.05,Regular Air,67.96,16.48,1.99,Barbara Fisher,British Columbia,West,Small Business,Technology,Computer Peripherals,Maxell DVD-RAM Discs,Small Pack,0.42,2010-06-24\r\n",
      "6809.0,48484.0,2010-06-23,Medium,41.0,773.44,0.08,Express Air,133.83,20.24,6.67,Barbara Fisher,British Columbia,West,Small Business,Furniture,Office Furnishings,\"DAX Contemporary Wood Frame with Silver Metal Mat, Desktop, 11 x 14 Size\",Small Pack,0.49,2010-06-24\r\n"
     ]
    }
   ],
   "source": [
    "! cat ~/data/store_1000.csv | tail -5"
   ]
  },
  {
   "cell_type": "code",
   "execution_count": 4,
   "id": "cba7d82e-e96d-4f6d-8263-f59c657cbdc0",
   "metadata": {},
   "outputs": [
    {
     "name": "stdout",
     "output_type": "stream",
     "text": [
      "719.0,5153.0,2011-08-25,Critical,37.0,4896.93,0.04,Express Air,1467.82,128.24,12.65,Helen Abelman,Prince Edward Island,Atlantic,Home Office,Furniture,Chairs & Chairmats,SAFCO Folding Chair Trolley,Medium Box,,2011-08-27\r\n",
      "119.0,773.0,2010-09-25,Medium,38.0,2071.3395,0.06,Regular Air,324.92699999999996,65.99,8.99,Helen Abelman,Prince Edward Island,Atlantic,Home Office,Technology,Telephones and Communication,Talkabout T8367,Small Box,0.56,2010-09-26\r\n"
     ]
    }
   ],
   "source": [
    "! cat < ~/data/SampleSuperstoreSales.csv | grep 'Helen'| head -2 | sort -r"
   ]
  },
  {
   "cell_type": "code",
   "execution_count": 5,
   "id": "6dbb8b24-2ab7-4cf5-bc74-fecabbbc009b",
   "metadata": {},
   "outputs": [],
   "source": [
    "! cat ~/data/SampleSuperstoreSales.csv | grep 'Helen'| head -2 | sort -r \\\n",
    ">> ~/data/store_1000.csv"
   ]
  },
  {
   "cell_type": "code",
   "execution_count": 6,
   "id": "53e74e50-2cf5-46e5-96dc-2b638ed924ed",
   "metadata": {},
   "outputs": [
    {
     "name": "stdout",
     "output_type": "stream",
     "text": [
      "6769.0,48197.0,2012-05-05,Not Specified,32.0,1282.49,0.07,Regular Air,154.74,40.97,14.45,Anthony O'Donnell,British Columbia,West,Consumer,Furniture,Office Furnishings,Dana Halogen Swing-Arm Architect Lamp,Large Box,0.57,2012-05-07\r\n",
      "6808.0,48484.0,2010-06-23,Medium,22.0,346.42,0.05,Regular Air,67.96,16.48,1.99,Barbara Fisher,British Columbia,West,Small Business,Technology,Computer Peripherals,Maxell DVD-RAM Discs,Small Pack,0.42,2010-06-24\r\n",
      "6809.0,48484.0,2010-06-23,Medium,41.0,773.44,0.08,Express Air,133.83,20.24,6.67,Barbara Fisher,British Columbia,West,Small Business,Furniture,Office Furnishings,\"DAX Contemporary Wood Frame with Silver Metal Mat, Desktop, 11 x 14 Size\",Small Pack,0.49,2010-06-24\r\n",
      "719.0,5153.0,2011-08-25,Critical,37.0,4896.93,0.04,Express Air,1467.82,128.24,12.65,Helen Abelman,Prince Edward Island,Atlantic,Home Office,Furniture,Chairs & Chairmats,SAFCO Folding Chair Trolley,Medium Box,,2011-08-27\r\n",
      "119.0,773.0,2010-09-25,Medium,38.0,2071.3395,0.06,Regular Air,324.92699999999996,65.99,8.99,Helen Abelman,Prince Edward Island,Atlantic,Home Office,Technology,Telephones and Communication,Talkabout T8367,Small Box,0.56,2010-09-26\r\n"
     ]
    }
   ],
   "source": [
    "! cat ~/data/store_1000.csv | tail -5"
   ]
  },
  {
   "cell_type": "markdown",
   "id": "34e433ae-8fc5-4fc2-8747-1ac0256c36a2",
   "metadata": {},
   "source": [
    "# More Sophisticated Streams and I/O Redirection Operations in Unix Terminal"
   ]
  },
  {
   "cell_type": "markdown",
   "id": "734af723",
   "metadata": {},
   "source": [
    "## View Data"
   ]
  },
  {
   "cell_type": "code",
   "execution_count": 7,
   "id": "bc8d81fe",
   "metadata": {},
   "outputs": [
    {
     "name": "stdout",
     "output_type": "stream",
     "text": [
      "Row ID,Order ID,Order Date,Order Priority,Order Quantity,Sales,Discount,Ship Mode,Profit,Unit Price,Shipping Cost,Customer Name,Province,Region,Customer Segment,Product Category,Product Sub-Category,Product Name,Product Container,Product Base Margin,Ship Date\r\n",
      "1.0,3.0,2010-10-13,Low,6.0,261.54,0.04,Regular Air,-213.25,38.94,35.0,Muhammed MacIntyre,Nunavut,Nunavut,Small Business,Office Supplies,Storage & Organization,\"Eldon Base for stackable storage shelf, platinum\",Large Box,0.8,2010-10-20\r\n",
      "49.0,293.0,2012-10-01,High,49.0,10123.02,0.07,Delivery Truck,457.81,208.16,68.02,Barry French,Nunavut,Nunavut,Consumer,Office Supplies,Appliances,\"1.7 Cubic Foot Compact \"\"Cube\"\" Office Refrigerators\",Jumbo Drum,0.58,2012-10-02\r\n"
     ]
    }
   ],
   "source": [
    "! head -3 ~/data/SampleSuperstoreSales.csv \n",
    "# 21 columns, order, product, customer"
   ]
  },
  {
   "cell_type": "code",
   "execution_count": 8,
   "id": "8ec54a4d",
   "metadata": {},
   "outputs": [
    {
     "name": "stdout",
     "output_type": "stream",
     "text": [
      "1.0,3.0,2010-10-13,Low,6.0,261.54,0.04,Regular Air,-213.25,38.94,35.0,Muhammed MacIntyre,Nunavut,Nunavut,Small Business,Office Supplies,Storage & Organization,\"Eldon Base for stackable storage shelf, platinum\",Large Box,0.8,2010-10-20\r\n",
      "49.0,293.0,2012-10-01,High,49.0,10123.02,0.07,Delivery Truck,457.81,208.16,68.02,Barry French,Nunavut,Nunavut,Consumer,Office Supplies,Appliances,\"1.7 Cubic Foot Compact \"\"Cube\"\" Office Refrigerators\",Jumbo Drum,0.58,2012-10-02\r\n",
      "tail: stdout: Broken pipe\r\n"
     ]
    }
   ],
   "source": [
    "! tail +2 ~/data/SampleSuperstoreSales.csv | head -2"
   ]
  },
  {
   "cell_type": "markdown",
   "id": "8f404e4d",
   "metadata": {},
   "source": [
    "## 1. Reorder Columns"
   ]
  },
  {
   "cell_type": "code",
   "execution_count": 9,
   "id": "d4bff555",
   "metadata": {},
   "outputs": [
    {
     "name": "stdout",
     "output_type": "stream",
     "text": [
      "Row ID,Order ID,Order Date,Order Priority,Order Quantity,Sales,Discount,Ship Mode,Profit,Unit Price,Shipping Cost,Customer Name,Province,Region,Customer Segment,Product Category,Product Sub-Category,Product Name,Product Container,Product Base Margin,Ship Date\r\n"
     ]
    }
   ],
   "source": [
    "! head -1 ~/data/SampleSuperstoreSales.csv"
   ]
  },
  {
   "cell_type": "code",
   "execution_count": 10,
   "id": "9e674457",
   "metadata": {},
   "outputs": [],
   "source": [
    "# redirection\n",
    "! awk 'BEGIN { FS=\",\"; OFS=\",\"; } {print $1,$2,$3,$21}' \\\n",
    "~/data/SampleSuperstoreSales.csv > ~/data/Order_Ship_Info.csv"
   ]
  },
  {
   "cell_type": "code",
   "execution_count": 11,
   "id": "c56ee26e",
   "metadata": {},
   "outputs": [
    {
     "name": "stdout",
     "output_type": "stream",
     "text": [
      "Row ID,Order ID,Order Date,Ship Date\r\n",
      "1.0,3.0,2010-10-13,0.8\r\n",
      "49.0,293.0,2012-10-01,2012-10-02\r\n",
      "50.0,293.0,2012-10-01,0.39\r\n"
     ]
    }
   ],
   "source": [
    "! head -4 ~/data/Order_Ship_Info.csv"
   ]
  },
  {
   "cell_type": "markdown",
   "id": "7a6b913b",
   "metadata": {},
   "source": [
    "## 2. Data Filtering"
   ]
  },
  {
   "cell_type": "code",
   "execution_count": 12,
   "id": "f7a9d119",
   "metadata": {},
   "outputs": [
    {
     "name": "stdout",
     "output_type": "stream",
     "text": [
      "Product Category\r\n",
      "Office Supplies\r\n",
      "Office Supplies\r\n",
      "Office Supplies\r\n",
      "Technology\r\n"
     ]
    }
   ],
   "source": [
    "# pipe\n",
    "! cut -d \",\" -f 16 ~/data/SampleSuperstoreSales.csv | head -5 \n",
    "# -d: delimiter, -f: which column"
   ]
  },
  {
   "cell_type": "code",
   "execution_count": 13,
   "id": "9b7cd9e4",
   "metadata": {},
   "outputs": [],
   "source": [
    "# Alternative method: csvcut\n",
    "#! pip install csvkit"
   ]
  },
  {
   "cell_type": "code",
   "execution_count": 14,
   "id": "8e759a19",
   "metadata": {},
   "outputs": [
    {
     "name": "stdout",
     "output_type": "stream",
     "text": [
      "Furniture\r\n",
      "Furniture\r\n",
      "Furniture\r\n",
      "Furniture\r\n",
      "Furniture\r\n",
      "sort: Broken pipe\r\n"
     ]
    }
   ],
   "source": [
    "! cut -d \",\" -f 16 ~/data/SampleSuperstoreSales.csv | tail +2 | sort \\\n",
    "| head -5"
   ]
  },
  {
   "cell_type": "code",
   "execution_count": 15,
   "id": "60c92f40",
   "metadata": {},
   "outputs": [
    {
     "name": "stdout",
     "output_type": "stream",
     "text": [
      "Furniture\r\n",
      "Office Supplies\r\n",
      "Technology\r\n"
     ]
    }
   ],
   "source": [
    "! cut -d \",\" -f 16 ~/data/SampleSuperstoreSales.csv | tail +2 | sort \\\n",
    "| uniq"
   ]
  },
  {
   "cell_type": "code",
   "execution_count": 16,
   "id": "4c50c06a",
   "metadata": {},
   "outputs": [
    {
     "name": "stdout",
     "output_type": "stream",
     "text": [
      " 189 Furniture,Bookcases\r\n",
      " 386 Furniture,Chairs & Chairmats\r\n",
      " 788 Furniture,Office Furnishings\r\n",
      " 361 Furniture,Tables\r\n",
      " 144 Office Supplies,\"Scissors\r\n",
      " 434 Office Supplies,Appliances\r\n",
      " 915 Office Supplies,Binders and Binder Accessories\r\n",
      " 246 Office Supplies,Envelopes\r\n",
      " 288 Office Supplies,Labels\r\n",
      "1225 Office Supplies,Paper\r\n",
      " 633 Office Supplies,Pens & Art Supplies\r\n",
      " 179 Office Supplies,Rubber Bands\r\n",
      " 546 Office Supplies,Storage & Organization\r\n",
      " 758 Technology,Computer Peripherals\r\n",
      "  87 Technology,Copiers and Fax\r\n",
      " 337 Technology,Office Machines\r\n",
      " 883 Technology,Telephones and Communication\r\n"
     ]
    }
   ],
   "source": [
    "! cut -d \",\" -f 16,17 ~/data/SampleSuperstoreSales.csv | tail +2 | sort \\\n",
    "| uniq -c"
   ]
  },
  {
   "cell_type": "code",
   "execution_count": 17,
   "id": "8d6c7315",
   "metadata": {},
   "outputs": [
    {
     "name": "stdout",
     "output_type": "stream",
     "text": [
      "tr: illegal option -- -\r\n",
      "usage: tr [-Ccsu] string1 string2\r\n",
      "       tr [-Ccu] -d string1\r\n",
      "       tr [-Ccu] -s string1\r\n",
      "       tr [-Ccu] -ds string1 string2\r\n"
     ]
    }
   ],
   "source": [
    "! tr --help"
   ]
  },
  {
   "cell_type": "code",
   "execution_count": 18,
   "id": "28a7d35d",
   "metadata": {},
   "outputs": [
    {
     "name": "stdout",
     "output_type": "stream",
     "text": [
      " 189 Furniture,Bookcases\r\n",
      " 386 Furniture,Chairs & Chairmats\r\n",
      " 788 Furniture,Office Furnishings\r\n",
      " 361 Furniture,Tables\r\n",
      " 144 Office Supplies,Scissors\r\n",
      " 434 Office Supplies,Appliances\r\n",
      " 915 Office Supplies,Binders and Binder Accessories\r\n",
      " 246 Office Supplies,Envelopes\r\n",
      " 288 Office Supplies,Labels\r\n",
      "1225 Office Supplies,Paper\r\n",
      " 633 Office Supplies,Pens & Art Supplies\r\n",
      " 179 Office Supplies,Rubber Bands\r\n",
      " 546 Office Supplies,Storage & Organization\r\n",
      " 758 Technology,Computer Peripherals\r\n",
      "  87 Technology,Copiers and Fax\r\n",
      " 337 Technology,Office Machines\r\n",
      " 883 Technology,Telephones and Communication\r\n"
     ]
    }
   ],
   "source": [
    "! cut -d \",\" -f 16,17 ~/data/SampleSuperstoreSales.csv | tail +2 | sort \\\n",
    "| uniq -c | tr -d '\"' # d is delete"
   ]
  },
  {
   "cell_type": "code",
   "execution_count": 19,
   "id": "936bcca0",
   "metadata": {},
   "outputs": [
    {
     "name": "stdout",
     "output_type": "stream",
     "text": [
      "1225 Office Supplies,Paper\r\n",
      " 915 Office Supplies,Binders and Binder Accessories\r\n",
      " 883 Technology,Telephones and Communication\r\n",
      " 788 Furniture,Office Furnishings\r\n",
      " 758 Technology,Computer Peripherals\r\n",
      " 633 Office Supplies,Pens & Art Supplies\r\n",
      " 546 Office Supplies,Storage & Organization\r\n",
      " 434 Office Supplies,Appliances\r\n",
      " 386 Furniture,Chairs & Chairmats\r\n",
      " 361 Furniture,Tables\r\n",
      " 337 Technology,Office Machines\r\n",
      " 288 Office Supplies,Labels\r\n",
      " 246 Office Supplies,Envelopes\r\n",
      " 189 Furniture,Bookcases\r\n",
      " 179 Office Supplies,Rubber Bands\r\n",
      " 144 Office Supplies,Scissors\r\n",
      "  87 Technology,Copiers and Fax\r\n"
     ]
    }
   ],
   "source": [
    "! cut -d \",\" -f 16,17 ~/data/SampleSuperstoreSales.csv | tail +2 | sort \\\n",
    "| uniq -c | tr -d '\"' | sort -r -n"
   ]
  },
  {
   "cell_type": "markdown",
   "id": "bf6d19d1",
   "metadata": {},
   "source": [
    "## Output"
   ]
  },
  {
   "cell_type": "code",
   "execution_count": 20,
   "id": "a9d85b66",
   "metadata": {},
   "outputs": [],
   "source": [
    "# pipeline\n",
    "! cut -d \",\" -f 16,17 ~/data/SampleSuperstoreSales.csv | tail +2 | sort \\\n",
    "| uniq -c | tr -d '\"' | sort -r -n > ~/data/Product_Category.csv"
   ]
  },
  {
   "cell_type": "code",
   "execution_count": 21,
   "id": "62dd41f1",
   "metadata": {
    "scrolled": true
   },
   "outputs": [
    {
     "name": "stdout",
     "output_type": "stream",
     "text": [
      "1225 Office Supplies,Paper\r\n",
      " 915 Office Supplies,Binders and Binder Accessories\r\n",
      " 883 Technology,Telephones and Communication\r\n",
      " 788 Furniture,Office Furnishings\r\n",
      " 758 Technology,Computer Peripherals\r\n",
      " 633 Office Supplies,Pens & Art Supplies\r\n",
      " 546 Office Supplies,Storage & Organization\r\n",
      " 434 Office Supplies,Appliances\r\n",
      " 386 Furniture,Chairs & Chairmats\r\n",
      " 361 Furniture,Tables\r\n",
      " 337 Technology,Office Machines\r\n",
      " 288 Office Supplies,Labels\r\n",
      " 246 Office Supplies,Envelopes\r\n",
      " 189 Furniture,Bookcases\r\n",
      " 179 Office Supplies,Rubber Bands\r\n",
      " 144 Office Supplies,Scissors\r\n",
      "  87 Technology,Copiers and Fax\r\n"
     ]
    }
   ],
   "source": [
    "! cat ~/data/Product_Category.csv"
   ]
  },
  {
   "cell_type": "markdown",
   "id": "2315f994",
   "metadata": {},
   "source": [
    "## Backup"
   ]
  },
  {
   "cell_type": "code",
   "execution_count": 22,
   "id": "09d50f06",
   "metadata": {},
   "outputs": [
    {
     "name": "stdout",
     "output_type": "stream",
     "text": [
      "   5 Furniture,Bookcases,\"Atlantic Metals Mobile 2-Shelf Bookcases, Custom Colors\",Jumbo Box\r\n",
      "   4 Furniture,Bookcases,\"Atlantic Metals Mobile 3-Shelf Bookcases, Custom Colors\",Jumbo Box\r\n",
      "   3 Furniture,Bookcases,\"Atlantic Metals Mobile 5-Shelf Bookcases, Custom Colors\",Jumbo Box\r\n"
     ]
    }
   ],
   "source": [
    "! cut -d \",\" -f 16,17-20 ~/data/SampleSuperstoreSales.csv \\\n",
    "| tail +2 | sort | uniq -c | head -3"
   ]
  }
 ],
 "metadata": {
  "kernelspec": {
   "display_name": "Python 3",
   "language": "python",
   "name": "python3"
  },
  "language_info": {
   "codemirror_mode": {
    "name": "ipython",
    "version": 3
   },
   "file_extension": ".py",
   "mimetype": "text/x-python",
   "name": "python",
   "nbconvert_exporter": "python",
   "pygments_lexer": "ipython3",
   "version": "3.8.8"
  }
 },
 "nbformat": 4,
 "nbformat_minor": 5
}
