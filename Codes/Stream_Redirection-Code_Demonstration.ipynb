{
 "cells": [
  {
   "cell_type": "markdown",
   "id": "a31217c0-e27d-426d-b7e6-0f14ccfb6e94",
   "metadata": {},
   "source": [
    "# STREAMS & I/O REDIRECTIONS"
   ]
  },
  {
   "cell_type": "markdown",
   "id": "a620e811-2776-4f7f-a58a-2016ecef8cfa",
   "metadata": {},
   "source": [
    "# Streams and Pipes"
   ]
  },
  {
   "cell_type": "code",
   "execution_count": 40,
   "id": "4f2000f5-5a20-4ece-9ace-f83a60e89178",
   "metadata": {},
   "outputs": [
    {
     "name": "stdout",
     "output_type": "stream",
     "text": [
      "       8\n"
     ]
    }
   ],
   "source": [
    "! cat SampleSuperstoreSales.csv | grep 'Annie Cyprus' | wc -l"
   ]
  },
  {
   "cell_type": "markdown",
   "id": "d4d4244b-6072-4dcb-b667-499fdbdfd00d",
   "metadata": {},
   "source": [
    "# Input/Output Redirections "
   ]
  },
  {
   "cell_type": "code",
   "execution_count": 44,
   "id": "2b8b5d55-c411-4694-9c20-fb9f9b10cb51",
   "metadata": {},
   "outputs": [],
   "source": [
    "! head -1000 SampleSuperstoreSales.csv > store_1000.csv"
   ]
  },
  {
   "cell_type": "code",
   "execution_count": 45,
   "id": "3fd10756-c4d1-4d65-b868-9d27d85ae0b7",
   "metadata": {},
   "outputs": [
    {
     "name": "stdout",
     "output_type": "stream",
     "text": [
      "6438.0,45763.0,2010-07-07,High,25.0,67.45,0.05,Regular Air,24.28,2.61,0.5,Lisa DeCherney,British Columbia,West,Corporate,Office Supplies,Labels,Avery 494,Small Box,0.39,2010-07-08\n",
      "6761.0,48165.0,2010-11-05,High,28.0,199.94,0.01,Regular Air,-147.27,6.48,9.54,Dennis Bolton,British Columbia,West,Small Business,Office Supplies,Paper,Xerox 1905,Small Box,0.37,2010-11-07\n",
      "6769.0,48197.0,2012-05-05,Not Specified,32.0,1282.49,0.07,Regular Air,154.74,40.97,14.45,Anthony O'Donnell,British Columbia,West,Consumer,Furniture,Office Furnishings,Dana Halogen Swing-Arm Architect Lamp,Large Box,0.57,2012-05-07\n",
      "6808.0,48484.0,2010-06-23,Medium,22.0,346.42,0.05,Regular Air,67.96,16.48,1.99,Barbara Fisher,British Columbia,West,Small Business,Technology,Computer Peripherals,Maxell DVD-RAM Discs,Small Pack,0.42,2010-06-24\n",
      "6809.0,48484.0,2010-06-23,Medium,41.0,773.44,0.08,Express Air,133.83,20.24,6.67,Barbara Fisher,British Columbia,West,Small Business,Furniture,Office Furnishings,\"DAX Contemporary Wood Frame with Silver Metal Mat, Desktop, 11 x 14 Size\",Small Pack,0.49,2010-06-24\n"
     ]
    }
   ],
   "source": [
    "! cat store_1000.csv | tail -5"
   ]
  },
  {
   "cell_type": "code",
   "execution_count": 46,
   "id": "cba7d82e-e96d-4f6d-8263-f59c657cbdc0",
   "metadata": {},
   "outputs": [
    {
     "name": "stdout",
     "output_type": "stream",
     "text": [
      "719.0,5153.0,2011-08-25,Critical,37.0,4896.93,0.04,Express Air,1467.82,128.24,12.65,Helen Abelman,Prince Edward Island,Atlantic,Home Office,Furniture,Chairs & Chairmats,SAFCO Folding Chair Trolley,Medium Box,,2011-08-27\n",
      "119.0,773.0,2010-09-25,Medium,38.0,2071.3395,0.06,Regular Air,324.92699999999996,65.99,8.99,Helen Abelman,Prince Edward Island,Atlantic,Home Office,Technology,Telephones and Communication,Talkabout T8367,Small Box,0.56,2010-09-26\n"
     ]
    }
   ],
   "source": [
    "! cat < SampleSuperstoreSales.csv | grep 'Helen'| head -2 | sort -r"
   ]
  },
  {
   "cell_type": "code",
   "execution_count": 47,
   "id": "6dbb8b24-2ab7-4cf5-bc74-fecabbbc009b",
   "metadata": {},
   "outputs": [],
   "source": [
    "! cat SampleSuperstoreSales.csv | grep 'Helen'| head -2 | sort -r >> store_1000.csv"
   ]
  },
  {
   "cell_type": "code",
   "execution_count": 48,
   "id": "53e74e50-2cf5-46e5-96dc-2b638ed924ed",
   "metadata": {},
   "outputs": [
    {
     "name": "stdout",
     "output_type": "stream",
     "text": [
      "6769.0,48197.0,2012-05-05,Not Specified,32.0,1282.49,0.07,Regular Air,154.74,40.97,14.45,Anthony O'Donnell,British Columbia,West,Consumer,Furniture,Office Furnishings,Dana Halogen Swing-Arm Architect Lamp,Large Box,0.57,2012-05-07\n",
      "6808.0,48484.0,2010-06-23,Medium,22.0,346.42,0.05,Regular Air,67.96,16.48,1.99,Barbara Fisher,British Columbia,West,Small Business,Technology,Computer Peripherals,Maxell DVD-RAM Discs,Small Pack,0.42,2010-06-24\n",
      "6809.0,48484.0,2010-06-23,Medium,41.0,773.44,0.08,Express Air,133.83,20.24,6.67,Barbara Fisher,British Columbia,West,Small Business,Furniture,Office Furnishings,\"DAX Contemporary Wood Frame with Silver Metal Mat, Desktop, 11 x 14 Size\",Small Pack,0.49,2010-06-24\n",
      "719.0,5153.0,2011-08-25,Critical,37.0,4896.93,0.04,Express Air,1467.82,128.24,12.65,Helen Abelman,Prince Edward Island,Atlantic,Home Office,Furniture,Chairs & Chairmats,SAFCO Folding Chair Trolley,Medium Box,,2011-08-27\n",
      "119.0,773.0,2010-09-25,Medium,38.0,2071.3395,0.06,Regular Air,324.92699999999996,65.99,8.99,Helen Abelman,Prince Edward Island,Atlantic,Home Office,Technology,Telephones and Communication,Talkabout T8367,Small Box,0.56,2010-09-26\n"
     ]
    }
   ],
   "source": [
    "! cat store_1000.csv | tail -5"
   ]
  },
  {
   "cell_type": "markdown",
   "id": "34e433ae-8fc5-4fc2-8747-1ac0256c36a2",
   "metadata": {},
   "source": [
    "# More Sophisticated Streams and I/O Redirection Operations in Unix Terminal"
   ]
  },
  {
   "cell_type": "code",
   "execution_count": 1,
   "id": "eb8887e9",
   "metadata": {},
   "outputs": [
    {
     "name": "stdout",
     "output_type": "stream",
     "text": [
      "Order_Ship_Info.csv       Product_Category.csv      SampleSuperstoreSales.csv\n"
     ]
    }
   ],
   "source": [
    "! ls *.csv"
   ]
  },
  {
   "cell_type": "markdown",
   "id": "734af723",
   "metadata": {},
   "source": [
    "## View Data"
   ]
  },
  {
   "cell_type": "code",
   "execution_count": 2,
   "id": "9f90c23e",
   "metadata": {},
   "outputs": [
    {
     "name": "stdout",
     "output_type": "stream",
     "text": [
      "    8400\n"
     ]
    }
   ],
   "source": [
    "! wc -l < SampleSuperstoreSales.csv"
   ]
  },
  {
   "cell_type": "code",
   "execution_count": 3,
   "id": "bc8d81fe",
   "metadata": {},
   "outputs": [
    {
     "name": "stdout",
     "output_type": "stream",
     "text": [
      "Row ID,Order ID,Order Date,Order Priority,Order Quantity,Sales,Discount,Ship Mode,Profit,Unit Price,Shipping Cost,Customer Name,Province,Region,Customer Segment,Product Category,Product Sub-Category,Product Name,Product Container,Product Base Margin,Ship Date\n",
      "1.0,3.0,2010-10-13,Low,6.0,261.54,0.04,Regular Air,-213.25,38.94,35.0,Muhammed MacIntyre,Nunavut,Nunavut,Small Business,Office Supplies,Storage & Organization,\"Eldon Base for stackable storage shelf, platinum\",Large Box,0.8,2010-10-20\n",
      "49.0,293.0,2012-10-01,High,49.0,10123.02,0.07,Delivery Truck,457.81,208.16,68.02,Barry French,Nunavut,Nunavut,Consumer,Office Supplies,Appliances,\"1.7 Cubic Foot Compact \"\"Cube\"\" Office Refrigerators\",Jumbo Drum,0.58,2012-10-02\n"
     ]
    }
   ],
   "source": [
    "! head -3 SampleSuperstoreSales.csv \n",
    "# 21 columns, order, product, customer"
   ]
  },
  {
   "cell_type": "code",
   "execution_count": 4,
   "id": "8ec54a4d",
   "metadata": {},
   "outputs": [
    {
     "name": "stdout",
     "output_type": "stream",
     "text": [
      "1.0,3.0,2010-10-13,Low,6.0,261.54,0.04,Regular Air,-213.25,38.94,35.0,Muhammed MacIntyre,Nunavut,Nunavut,Small Business,Office Supplies,Storage & Organization,\"Eldon Base for stackable storage shelf, platinum\",Large Box,0.8,2010-10-20\n",
      "49.0,293.0,2012-10-01,High,49.0,10123.02,0.07,Delivery Truck,457.81,208.16,68.02,Barry French,Nunavut,Nunavut,Consumer,Office Supplies,Appliances,\"1.7 Cubic Foot Compact \"\"Cube\"\" Office Refrigerators\",Jumbo Drum,0.58,2012-10-02\n",
      "tail: stdout: Broken pipe\n"
     ]
    }
   ],
   "source": [
    "! tail +2 SampleSuperstoreSales.csv | head -2"
   ]
  },
  {
   "cell_type": "markdown",
   "id": "8f404e4d",
   "metadata": {},
   "source": [
    "## 1. Reorder Columns"
   ]
  },
  {
   "cell_type": "code",
   "execution_count": 5,
   "id": "d4bff555",
   "metadata": {},
   "outputs": [
    {
     "name": "stdout",
     "output_type": "stream",
     "text": [
      "Row ID,Order ID,Order Date,Order Priority,Order Quantity,Sales,Discount,Ship Mode,Profit,Unit Price,Shipping Cost,Customer Name,Province,Region,Customer Segment,Product Category,Product Sub-Category,Product Name,Product Container,Product Base Margin,Ship Date\n"
     ]
    }
   ],
   "source": [
    "! head -1 SampleSuperstoreSales.csv"
   ]
  },
  {
   "cell_type": "code",
   "execution_count": 6,
   "id": "9e674457",
   "metadata": {},
   "outputs": [],
   "source": [
    "# redirection\n",
    "! awk 'BEGIN { FS=\",\"; OFS=\",\"; } {print $1,$2,$3,$21}' \\\n",
    "SampleSuperstoreSales.csv > Order_Ship_Info.csv"
   ]
  },
  {
   "cell_type": "code",
   "execution_count": 7,
   "id": "c56ee26e",
   "metadata": {},
   "outputs": [
    {
     "name": "stdout",
     "output_type": "stream",
     "text": [
      "Row ID,Order ID,Order Date,Ship Date\n",
      "1.0,3.0,2010-10-13,0.8\n",
      "49.0,293.0,2012-10-01,2012-10-02\n",
      "50.0,293.0,2012-10-01,0.39\n"
     ]
    }
   ],
   "source": [
    "! head -4 Order_Ship_Info.csv"
   ]
  },
  {
   "cell_type": "markdown",
   "id": "7a6b913b",
   "metadata": {},
   "source": [
    "## 2. Data Filtering"
   ]
  },
  {
   "cell_type": "code",
   "execution_count": 8,
   "id": "f7a9d119",
   "metadata": {},
   "outputs": [
    {
     "name": "stdout",
     "output_type": "stream",
     "text": [
      "Product Category\n",
      "Office Supplies\n",
      "Office Supplies\n",
      "Office Supplies\n",
      "Technology\n"
     ]
    }
   ],
   "source": [
    "# pipe\n",
    "! cut -d \",\" -f 16 SampleSuperstoreSales.csv | head -5 \n",
    "# -d: delimiter, -f: which column"
   ]
  },
  {
   "cell_type": "code",
   "execution_count": 9,
   "id": "9b7cd9e4",
   "metadata": {},
   "outputs": [],
   "source": [
    "# Alternative method: csvcut\n",
    "#! pip install csvkit"
   ]
  },
  {
   "cell_type": "code",
   "execution_count": 10,
   "id": "8e759a19",
   "metadata": {},
   "outputs": [
    {
     "name": "stdout",
     "output_type": "stream",
     "text": [
      "Furniture\n",
      "Furniture\n",
      "Furniture\n",
      "Furniture\n",
      "Furniture\n",
      "sort: Broken pipe\n"
     ]
    }
   ],
   "source": [
    "! cut -d \",\" -f 16 SampleSuperstoreSales.csv | tail +2 | sort | head -5"
   ]
  },
  {
   "cell_type": "code",
   "execution_count": 11,
   "id": "60c92f40",
   "metadata": {},
   "outputs": [
    {
     "name": "stdout",
     "output_type": "stream",
     "text": [
      "Furniture\n",
      "Office Supplies\n",
      "Technology\n"
     ]
    }
   ],
   "source": [
    "! cut -d \",\" -f 16 SampleSuperstoreSales.csv | tail +2 | sort | uniq"
   ]
  },
  {
   "cell_type": "code",
   "execution_count": 12,
   "id": "4c50c06a",
   "metadata": {},
   "outputs": [
    {
     "name": "stdout",
     "output_type": "stream",
     "text": [
      " 189 Furniture,Bookcases\n",
      " 386 Furniture,Chairs & Chairmats\n",
      " 788 Furniture,Office Furnishings\n",
      " 361 Furniture,Tables\n",
      " 144 Office Supplies,\"Scissors\n",
      " 434 Office Supplies,Appliances\n",
      " 915 Office Supplies,Binders and Binder Accessories\n",
      " 246 Office Supplies,Envelopes\n",
      " 288 Office Supplies,Labels\n",
      "1225 Office Supplies,Paper\n",
      " 633 Office Supplies,Pens & Art Supplies\n",
      " 179 Office Supplies,Rubber Bands\n",
      " 546 Office Supplies,Storage & Organization\n",
      " 758 Technology,Computer Peripherals\n",
      "  87 Technology,Copiers and Fax\n",
      " 337 Technology,Office Machines\n",
      " 883 Technology,Telephones and Communication\n"
     ]
    }
   ],
   "source": [
    "! cut -d \",\" -f 16,17 SampleSuperstoreSales.csv | tail +2 | sort | uniq -c"
   ]
  },
  {
   "cell_type": "code",
   "execution_count": 13,
   "id": "936bcca0",
   "metadata": {},
   "outputs": [
    {
     "name": "stdout",
     "output_type": "stream",
     "text": [
      "1225 Office Supplies,Paper\n",
      " 915 Office Supplies,Binders and Binder Accessories\n",
      " 883 Technology,Telephones and Communication\n",
      " 788 Furniture,Office Furnishings\n",
      " 758 Technology,Computer Peripherals\n",
      " 633 Office Supplies,Pens & Art Supplies\n",
      " 546 Office Supplies,Storage & Organization\n",
      " 434 Office Supplies,Appliances\n",
      " 386 Furniture,Chairs & Chairmats\n",
      " 361 Furniture,Tables\n",
      " 337 Technology,Office Machines\n",
      " 288 Office Supplies,Labels\n",
      " 246 Office Supplies,Envelopes\n",
      " 189 Furniture,Bookcases\n",
      " 179 Office Supplies,Rubber Bands\n",
      " 144 Office Supplies,\"Scissors\n",
      "  87 Technology,Copiers and Fax\n"
     ]
    }
   ],
   "source": [
    "! cut -d \",\" -f 16,17 SampleSuperstoreSales.csv | tail +2 | sort | uniq -c \\\n",
    "| sort -r -n"
   ]
  },
  {
   "cell_type": "markdown",
   "id": "bf6d19d1",
   "metadata": {},
   "source": [
    "## Output"
   ]
  },
  {
   "cell_type": "code",
   "execution_count": 14,
   "id": "a9d85b66",
   "metadata": {},
   "outputs": [],
   "source": [
    "# pipeline\n",
    "! cut -d \",\" -f 16,17 SampleSuperstoreSales.csv | tail +2 | sort | uniq -c \\\n",
    "| sort -r -n > Product_Category.csv"
   ]
  },
  {
   "cell_type": "code",
   "execution_count": 15,
   "id": "62dd41f1",
   "metadata": {
    "scrolled": true
   },
   "outputs": [
    {
     "name": "stdout",
     "output_type": "stream",
     "text": [
      "1225 Office Supplies,Paper\n",
      " 915 Office Supplies,Binders and Binder Accessories\n",
      " 883 Technology,Telephones and Communication\n",
      " 788 Furniture,Office Furnishings\n",
      " 758 Technology,Computer Peripherals\n",
      " 633 Office Supplies,Pens & Art Supplies\n",
      " 546 Office Supplies,Storage & Organization\n",
      " 434 Office Supplies,Appliances\n",
      " 386 Furniture,Chairs & Chairmats\n",
      " 361 Furniture,Tables\n",
      " 337 Technology,Office Machines\n",
      " 288 Office Supplies,Labels\n",
      " 246 Office Supplies,Envelopes\n",
      " 189 Furniture,Bookcases\n",
      " 179 Office Supplies,Rubber Bands\n",
      " 144 Office Supplies,\"Scissors\n",
      "  87 Technology,Copiers and Fax\n"
     ]
    }
   ],
   "source": [
    "! cat Product_Category.csv"
   ]
  },
  {
   "cell_type": "markdown",
   "id": "2315f994",
   "metadata": {},
   "source": [
    "## Backup"
   ]
  },
  {
   "cell_type": "code",
   "execution_count": 16,
   "id": "09d50f06",
   "metadata": {},
   "outputs": [
    {
     "name": "stdout",
     "output_type": "stream",
     "text": [
      "   5 Furniture,Bookcases,\"Atlantic Metals Mobile 2-Shelf Bookcases, Custom Colors\",Jumbo Box\n",
      "   4 Furniture,Bookcases,\"Atlantic Metals Mobile 3-Shelf Bookcases, Custom Colors\",Jumbo Box\n",
      "   3 Furniture,Bookcases,\"Atlantic Metals Mobile 5-Shelf Bookcases, Custom Colors\",Jumbo Box\n"
     ]
    }
   ],
   "source": [
    "! cut -d \",\" -f 16,17-20 SampleSuperstoreSales.csv \\\n",
    "| tail +2 | sort | uniq -c | head -3"
   ]
  }
 ],
 "metadata": {
  "kernelspec": {
   "display_name": "Python 3",
   "language": "python",
   "name": "python3"
  },
  "language_info": {
   "codemirror_mode": {
    "name": "ipython",
    "version": 3
   },
   "file_extension": ".py",
   "mimetype": "text/x-python",
   "name": "python",
   "nbconvert_exporter": "python",
   "pygments_lexer": "ipython3",
   "version": "3.8.8"
  }
 },
 "nbformat": 4,
 "nbformat_minor": 5
}
