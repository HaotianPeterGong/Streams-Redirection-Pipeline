{
 "cells": [
  {
   "cell_type": "code",
   "execution_count": 1,
   "id": "eb8887e9",
   "metadata": {},
   "outputs": [
    {
     "name": "stdout",
     "output_type": "stream",
     "text": [
      "Order_Ship_Info.csv       Product_Category.csv      SampleSuperstoreSales.csv\r\n"
     ]
    }
   ],
   "source": [
    "! ls *.csv"
   ]
  },
  {
   "cell_type": "markdown",
   "id": "734af723",
   "metadata": {},
   "source": [
    "## View Data"
   ]
  },
  {
   "cell_type": "code",
   "execution_count": 2,
   "id": "9f90c23e",
   "metadata": {},
   "outputs": [
    {
     "name": "stdout",
     "output_type": "stream",
     "text": [
      "    8400\r\n"
     ]
    }
   ],
   "source": [
    "! wc -l < SampleSuperstoreSales.csv"
   ]
  },
  {
   "cell_type": "code",
   "execution_count": 3,
   "id": "bc8d81fe",
   "metadata": {},
   "outputs": [
    {
     "name": "stdout",
     "output_type": "stream",
     "text": [
      "Row ID,Order ID,Order Date,Order Priority,Order Quantity,Sales,Discount,Ship Mode,Profit,Unit Price,Shipping Cost,Customer Name,Province,Region,Customer Segment,Product Category,Product Sub-Category,Product Name,Product Container,Product Base Margin,Ship Date\r\n",
      "1.0,3.0,2010-10-13,Low,6.0,261.54,0.04,Regular Air,-213.25,38.94,35.0,Muhammed MacIntyre,Nunavut,Nunavut,Small Business,Office Supplies,Storage & Organization,\"Eldon Base for stackable storage shelf, platinum\",Large Box,0.8,2010-10-20\r\n",
      "49.0,293.0,2012-10-01,High,49.0,10123.02,0.07,Delivery Truck,457.81,208.16,68.02,Barry French,Nunavut,Nunavut,Consumer,Office Supplies,Appliances,\"1.7 Cubic Foot Compact \"\"Cube\"\" Office Refrigerators\",Jumbo Drum,0.58,2012-10-02\r\n"
     ]
    }
   ],
   "source": [
    "! head -3 SampleSuperstoreSales.csv \n",
    "# 21 columns, order, product, customer"
   ]
  },
  {
   "cell_type": "code",
   "execution_count": 4,
   "id": "8ec54a4d",
   "metadata": {},
   "outputs": [
    {
     "name": "stdout",
     "output_type": "stream",
     "text": [
      "1.0,3.0,2010-10-13,Low,6.0,261.54,0.04,Regular Air,-213.25,38.94,35.0,Muhammed MacIntyre,Nunavut,Nunavut,Small Business,Office Supplies,Storage & Organization,\"Eldon Base for stackable storage shelf, platinum\",Large Box,0.8,2010-10-20\r\n",
      "49.0,293.0,2012-10-01,High,49.0,10123.02,0.07,Delivery Truck,457.81,208.16,68.02,Barry French,Nunavut,Nunavut,Consumer,Office Supplies,Appliances,\"1.7 Cubic Foot Compact \"\"Cube\"\" Office Refrigerators\",Jumbo Drum,0.58,2012-10-02\r\n",
      "tail: stdout: Broken pipe\r\n"
     ]
    }
   ],
   "source": [
    "! tail +2 SampleSuperstoreSales.csv | head -2"
   ]
  },
  {
   "cell_type": "markdown",
   "id": "8f404e4d",
   "metadata": {},
   "source": [
    "## 1. Reorder Columns"
   ]
  },
  {
   "cell_type": "code",
   "execution_count": 5,
   "id": "d4bff555",
   "metadata": {},
   "outputs": [
    {
     "name": "stdout",
     "output_type": "stream",
     "text": [
      "Row ID,Order ID,Order Date,Order Priority,Order Quantity,Sales,Discount,Ship Mode,Profit,Unit Price,Shipping Cost,Customer Name,Province,Region,Customer Segment,Product Category,Product Sub-Category,Product Name,Product Container,Product Base Margin,Ship Date\r\n"
     ]
    }
   ],
   "source": [
    "! head -1 SampleSuperstoreSales.csv"
   ]
  },
  {
   "cell_type": "code",
   "execution_count": 6,
   "id": "9e674457",
   "metadata": {},
   "outputs": [],
   "source": [
    "# redirection\n",
    "! awk 'BEGIN { FS=\",\"; OFS=\",\"; } {print $1,$2,$3,$21}' \\\n",
    "SampleSuperstoreSales.csv > Order_Ship_Info.csv"
   ]
  },
  {
   "cell_type": "code",
   "execution_count": 7,
   "id": "c56ee26e",
   "metadata": {},
   "outputs": [
    {
     "name": "stdout",
     "output_type": "stream",
     "text": [
      "Row ID,Order ID,Order Date,Ship Date\r\n",
      "1.0,3.0,2010-10-13,0.8\r\n",
      "49.0,293.0,2012-10-01,2012-10-02\r\n",
      "50.0,293.0,2012-10-01,0.39\r\n"
     ]
    }
   ],
   "source": [
    "! head -4 Order_Ship_Info.csv"
   ]
  },
  {
   "cell_type": "markdown",
   "id": "7a6b913b",
   "metadata": {},
   "source": [
    "## 2. Data Filtering"
   ]
  },
  {
   "cell_type": "code",
   "execution_count": 8,
   "id": "f7a9d119",
   "metadata": {},
   "outputs": [
    {
     "name": "stdout",
     "output_type": "stream",
     "text": [
      "Product Category\r\n",
      "Office Supplies\r\n",
      "Office Supplies\r\n",
      "Office Supplies\r\n",
      "Technology\r\n"
     ]
    }
   ],
   "source": [
    "# pipe\n",
    "! cut -d \",\" -f 16 SampleSuperstoreSales.csv | head -5 \n",
    "# -d: delimiter, -f: which column"
   ]
  },
  {
   "cell_type": "code",
   "execution_count": 9,
   "id": "9b7cd9e4",
   "metadata": {},
   "outputs": [],
   "source": [
    "# Alternative method: csvcut\n",
    "#! pip install csvkit"
   ]
  },
  {
   "cell_type": "code",
   "execution_count": 10,
   "id": "8e759a19",
   "metadata": {},
   "outputs": [
    {
     "name": "stdout",
     "output_type": "stream",
     "text": [
      "Furniture\r\n",
      "Furniture\r\n",
      "Furniture\r\n",
      "Furniture\r\n",
      "Furniture\r\n",
      "sort: Broken pipe\r\n"
     ]
    }
   ],
   "source": [
    "! cut -d \",\" -f 16 SampleSuperstoreSales.csv | tail +2 | sort | head -5"
   ]
  },
  {
   "cell_type": "code",
   "execution_count": 11,
   "id": "60c92f40",
   "metadata": {},
   "outputs": [
    {
     "name": "stdout",
     "output_type": "stream",
     "text": [
      "Furniture\r\n",
      "Office Supplies\r\n",
      "Technology\r\n"
     ]
    }
   ],
   "source": [
    "! cut -d \",\" -f 16 SampleSuperstoreSales.csv | tail +2 | sort | uniq"
   ]
  },
  {
   "cell_type": "code",
   "execution_count": 12,
   "id": "4c50c06a",
   "metadata": {},
   "outputs": [
    {
     "name": "stdout",
     "output_type": "stream",
     "text": [
      " 189 Furniture,Bookcases\r\n",
      " 386 Furniture,Chairs & Chairmats\r\n",
      " 788 Furniture,Office Furnishings\r\n",
      " 361 Furniture,Tables\r\n",
      " 144 Office Supplies,\"Scissors\r\n",
      " 434 Office Supplies,Appliances\r\n",
      " 915 Office Supplies,Binders and Binder Accessories\r\n",
      " 246 Office Supplies,Envelopes\r\n",
      " 288 Office Supplies,Labels\r\n",
      "1225 Office Supplies,Paper\r\n",
      " 633 Office Supplies,Pens & Art Supplies\r\n",
      " 179 Office Supplies,Rubber Bands\r\n",
      " 546 Office Supplies,Storage & Organization\r\n",
      " 758 Technology,Computer Peripherals\r\n",
      "  87 Technology,Copiers and Fax\r\n",
      " 337 Technology,Office Machines\r\n",
      " 883 Technology,Telephones and Communication\r\n"
     ]
    }
   ],
   "source": [
    "! cut -d \",\" -f 16,17 SampleSuperstoreSales.csv | tail +2 | sort | uniq -c"
   ]
  },
  {
   "cell_type": "code",
   "execution_count": 13,
   "id": "936bcca0",
   "metadata": {},
   "outputs": [
    {
     "name": "stdout",
     "output_type": "stream",
     "text": [
      "1225 Office Supplies,Paper\r\n",
      " 915 Office Supplies,Binders and Binder Accessories\r\n",
      " 883 Technology,Telephones and Communication\r\n",
      " 788 Furniture,Office Furnishings\r\n",
      " 758 Technology,Computer Peripherals\r\n",
      " 633 Office Supplies,Pens & Art Supplies\r\n",
      " 546 Office Supplies,Storage & Organization\r\n",
      " 434 Office Supplies,Appliances\r\n",
      " 386 Furniture,Chairs & Chairmats\r\n",
      " 361 Furniture,Tables\r\n",
      " 337 Technology,Office Machines\r\n",
      " 288 Office Supplies,Labels\r\n",
      " 246 Office Supplies,Envelopes\r\n",
      " 189 Furniture,Bookcases\r\n",
      " 179 Office Supplies,Rubber Bands\r\n",
      " 144 Office Supplies,\"Scissors\r\n",
      "  87 Technology,Copiers and Fax\r\n"
     ]
    }
   ],
   "source": [
    "! cut -d \",\" -f 16,17 SampleSuperstoreSales.csv | tail +2 | sort | uniq -c \\\n",
    "| sort -r -n"
   ]
  },
  {
   "cell_type": "markdown",
   "id": "bf6d19d1",
   "metadata": {},
   "source": [
    "## Output"
   ]
  },
  {
   "cell_type": "code",
   "execution_count": 14,
   "id": "a9d85b66",
   "metadata": {},
   "outputs": [],
   "source": [
    "# pipeline\n",
    "! cut -d \",\" -f 16,17 SampleSuperstoreSales.csv | tail +2 | sort | uniq -c \\\n",
    "| sort -r -n > Product_Category.csv"
   ]
  },
  {
   "cell_type": "code",
   "execution_count": 15,
   "id": "62dd41f1",
   "metadata": {
    "scrolled": true
   },
   "outputs": [
    {
     "name": "stdout",
     "output_type": "stream",
     "text": [
      "1225 Office Supplies,Paper\r\n",
      " 915 Office Supplies,Binders and Binder Accessories\r\n",
      " 883 Technology,Telephones and Communication\r\n",
      " 788 Furniture,Office Furnishings\r\n",
      " 758 Technology,Computer Peripherals\r\n",
      " 633 Office Supplies,Pens & Art Supplies\r\n",
      " 546 Office Supplies,Storage & Organization\r\n",
      " 434 Office Supplies,Appliances\r\n",
      " 386 Furniture,Chairs & Chairmats\r\n",
      " 361 Furniture,Tables\r\n",
      " 337 Technology,Office Machines\r\n",
      " 288 Office Supplies,Labels\r\n",
      " 246 Office Supplies,Envelopes\r\n",
      " 189 Furniture,Bookcases\r\n",
      " 179 Office Supplies,Rubber Bands\r\n",
      " 144 Office Supplies,\"Scissors\r\n",
      "  87 Technology,Copiers and Fax\r\n"
     ]
    }
   ],
   "source": [
    "! cat Product_Category.csv"
   ]
  },
  {
   "cell_type": "markdown",
   "id": "2315f994",
   "metadata": {},
   "source": [
    "## Backup"
   ]
  },
  {
   "cell_type": "code",
   "execution_count": 16,
   "id": "09d50f06",
   "metadata": {},
   "outputs": [
    {
     "name": "stdout",
     "output_type": "stream",
     "text": [
      "   5 Furniture,Bookcases,\"Atlantic Metals Mobile 2-Shelf Bookcases, Custom Colors\",Jumbo Box\r\n",
      "   4 Furniture,Bookcases,\"Atlantic Metals Mobile 3-Shelf Bookcases, Custom Colors\",Jumbo Box\r\n",
      "   3 Furniture,Bookcases,\"Atlantic Metals Mobile 5-Shelf Bookcases, Custom Colors\",Jumbo Box\r\n"
     ]
    }
   ],
   "source": [
    "! cut -d \",\" -f 16,17-20 SampleSuperstoreSales.csv \\\n",
    "| tail +2 | sort | uniq -c | head -3"
   ]
  }
 ],
 "metadata": {
  "kernelspec": {
   "display_name": "Python 3",
   "language": "python",
   "name": "python3"
  },
  "language_info": {
   "codemirror_mode": {
    "name": "ipython",
    "version": 3
   },
   "file_extension": ".py",
   "mimetype": "text/x-python",
   "name": "python",
   "nbconvert_exporter": "python",
   "pygments_lexer": "ipython3",
   "version": "3.8.8"
  }
 },
 "nbformat": 4,
 "nbformat_minor": 5
}
